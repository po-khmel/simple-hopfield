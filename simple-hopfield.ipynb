{
 "cells": [
  {
   "cell_type": "markdown",
   "id": "1b4bfdce",
   "metadata": {},
   "source": [
    "# HOPFIELD: A SIMPLE MODEL FOR MEMORY"
   ]
  },
  {
   "cell_type": "markdown",
   "id": "4514d7bf",
   "metadata": {},
   "source": [
    "### I'll try to store an image inside the pattern.  \n",
    "Goals:  \n",
    "- define a function that generates images  \n",
    "- create several images as patterns and 1 as a new image similar to the one of the patterns  \n",
    "- compare the accuracy between the new image and other images  \n",
    "- retrieve the initial image from perturbed one"
   ]
  },
  {
   "cell_type": "markdown",
   "id": "be03b080",
   "metadata": {},
   "source": [
    "### Libraries and functions"
   ]
  },
  {
   "cell_type": "code",
   "execution_count": 1,
   "id": "c94e7171",
   "metadata": {},
   "outputs": [],
   "source": [
    "import numpy as np\n",
    "import matplotlib.pyplot as plt"
   ]
  },
  {
   "cell_type": "code",
   "execution_count": 2,
   "id": "69b908c8",
   "metadata": {},
   "outputs": [],
   "source": [
    "\"\"\"\n",
    "UTILITY FUNCTIONS\n",
    "\"\"\"\n",
    "\n",
    "def images (x: int, y: int) -> np.ndarray:\n",
    "    '''' Creates matrices (and corresponding images) to memorize '''\n",
    "    image=-np.ones((x,y))\n",
    "    image[np.random.randint(0,y/2):np.random.randint(x/2,y),\n",
    "    np.random.randint(0,y/2):np.random.randint(x/2,y)]=1\n",
    "    return image\n",
    "\n",
    "\n",
    "def change (image: np.ndarray, rate: float) -> np.ndarray:\n",
    "    \"\"\" Changes a selected image to a certain extent (rate) \n",
    "        rate - fraction of changed sites\n",
    "    \"\"\"\n",
    "    k=int(np.ceil(rate*N)) # absolute number of changed sites\n",
    "    if k==N:\n",
    "        starting_point_of_change=0\n",
    "    else:\n",
    "        starting_point_of_change=np.random.randint(0,N-k) #define random site to start changes\n",
    "    \n",
    "    change_matrix_1d=np.ones(N) \n",
    "    change_matrix_1d[starting_point_of_change:(starting_point_of_change+k)]=-1 #create an array full of 1 \n",
    "                                                                                # with k sites of -1\n",
    "    change_matrix=np.reshape(change_matrix_1d,(x,y)) #this is a matrix to change the image\n",
    "    new_image=image*change_matrix \n",
    "\n",
    "    plt.imshow(new_image,cmap='binary')\n",
    "    plt.show()\n",
    "    return new_image \n",
    "\n",
    "def pattern_accuracy(state_1: np.ndarray, state_2: np.ndarray) -> float: \n",
    "    \"\"\" Computes an extent of similarity between two patterns and gives back a result\n",
    "        from -1 = 100% different   to 1 = 100% same \n",
    "    \"\"\"\n",
    "    return (1/N)* np.dot(state_1,state_2)\n",
    "\n",
    "\n",
    "def weight_matrix_image(patterns: np.ndarray) -> np.ndarray:\n",
    "    \"\"\" Computes weight matrix of image patterns that are memorized \"\"\"\n",
    "    c = 1/N                                     \n",
    "    W = np.zeros(shape = (N,N))\n",
    "    for pattern in patterns:\n",
    "        for i in range(N):\n",
    "            for j in range(N):\n",
    "                W[i,j] += c*(pattern[i]*pattern[j])\n",
    "    np.fill_diagonal(W,0)\n",
    "    return W \n",
    "\n",
    "def energy(state_pattern: np.ndarray, W: np.ndarray) -> float :\n",
    "    \"\"\" Computes the energy of a given state \"\"\"\n",
    "    return -N * state_pattern @ W @ state_pattern\n",
    "\n"
   ]
  },
  {
   "cell_type": "code",
   "execution_count": 3,
   "id": "b4501c93",
   "metadata": {},
   "outputs": [],
   "source": [
    "\"\"\"\n",
    "DYNAMICS\n",
    "\"\"\"\n",
    "# evolution function\n",
    "\n",
    "def evolution(initial_state: np.ndarray, W:np.ndarray, max_steps: int = 100) -> np.ndarray:\n",
    "    \"\"\" Evolution function. Retrieves the initial image from the perturbed one \"\"\"\n",
    "    iteration = 0\n",
    "    list_of_states = []\n",
    "    list_of_energies = []\n",
    "\n",
    "    energy_old = np.infty\n",
    "    energy_new = energy(initial_state, W)\n",
    "\n",
    "    current_state = initial_state\n",
    "    # we keep running until we reach the lowest energy level\n",
    "    while (energy_old > energy_new) and iteration < max_steps: \n",
    "        iteration += 1\n",
    "        energy_old = energy_new\n",
    "        list_of_energies.append(energy_new)\n",
    "        list_of_states.append(np.copy(current_state))\n",
    "\n",
    "        # do the dynamics\n",
    "        current_state = np.sign(W @ current_state) \n",
    "\n",
    "        #calculate the new energy of the current state    \n",
    "        energy_new = energy(current_state, W)\n",
    "\n",
    "    final_state = current_state \n",
    "    return iteration, final_state, list_of_energies, list_of_states"
   ]
  },
  {
   "cell_type": "markdown",
   "id": "dfb0f4c1",
   "metadata": {},
   "source": [
    "### Rectangular images"
   ]
  },
  {
   "cell_type": "code",
   "execution_count": 4,
   "id": "ccfacdd1",
   "metadata": {},
   "outputs": [],
   "source": [
    "#initial parameters\n",
    "\n",
    "x = 10  #width of an image\n",
    "y = 10  #height of an image\n",
    "L = 10   #number of images/patterns\n",
    "N = x*y # number of \"neurons\""
   ]
  },
  {
   "cell_type": "code",
   "execution_count": 5,
   "id": "f416197f",
   "metadata": {},
   "outputs": [
    {
     "data": {
      "image/png": "[encoded data removed]",
      "text/plain": [
       "<Figure size 1080x360 with 10 Axes>"
      ]
     },
     "metadata": {
      "needs_background": "light"
     },
     "output_type": "display_data"
    }
   ],
   "source": [
    "#create a set of images and show them\n",
    "\n",
    "image_list=[]\n",
    "fig, ax=plt.subplots(1,L, figsize=(15,5))\n",
    "axes=ax.ravel()\n",
    "\n",
    "for i in range (L):    \n",
    "    image_list.append(images(x, y))\n",
    "    axes[i].imshow(image_list[i],cmap='binary')\n",
    "    axes[i].set_xlabel(f'image {i}')\n",
    "\n",
    "plt.show()\n",
    "    "
   ]
  },
  {
   "cell_type": "code",
   "execution_count": 6,
   "id": "b93194ef",
   "metadata": {},
   "outputs": [],
   "source": [
    "what_to_change=np.random.randint(0,L) #which image to change - randomly chosen from set of images"
   ]
  },
  {
   "cell_type": "code",
   "execution_count": 7,
   "id": "f4ac4c77",
   "metadata": {},
   "outputs": [
    {
     "name": "stdout",
     "output_type": "stream",
     "text": [
      "changed image is number 7\n"
     ]
    },
    {
     "data": {
      "image/png": "[encoded data removed]",
      "text/plain": [
       "<Figure size 432x288 with 1 Axes>"
      ]
     },
     "metadata": {
      "needs_background": "light"
     },
     "output_type": "display_data"
    }
   ],
   "source": [
    "#let's create an image similar to 'image X' (previously randomly chosen) with 10% of changed sites (rate=0.1)\n",
    "print(f'changed image is number {what_to_change}')\n",
    "new_image=change(image_list[what_to_change],0.2)"
   ]
  },
  {
   "cell_type": "code",
   "execution_count": 8,
   "id": "e4cd245d",
   "metadata": {},
   "outputs": [],
   "source": [
    "#make an array of patterns from images (from 2D to 1D)\n",
    "image_patterns=[]\n",
    "#reshaping the stored patterns \n",
    "for i in image_list:  \n",
    "    each_image_pattern = np.reshape(i,x*y)\n",
    "    image_patterns.append(each_image_pattern)\n",
    "    \n",
    "#reshaping the initial state\n",
    "new_image_pattern=np.reshape(new_image,x*y)"
   ]
  },
  {
   "cell_type": "code",
   "execution_count": 9,
   "id": "e4b51173",
   "metadata": {},
   "outputs": [
    {
     "name": "stdout",
     "output_type": "stream",
     "text": [
      "similarity between image 0 and new image is 0.52\n",
      "similarity between image 1 and new image is 0.44\n",
      "similarity between image 2 and new image is 0.66\n",
      "similarity between image 3 and new image is 0.24\n",
      "similarity between image 4 and new image is 0.54\n",
      "similarity between image 5 and new image is 0.4\n",
      "similarity between image 6 and new image is 0.12\n",
      "similarity between image 7 and new image is 0.6\n",
      "similarity between image 8 and new image is 0.16\n",
      "similarity between image 9 and new image is 0.58\n",
      "The most similar image is image 2\n"
     ]
    },
    {
     "data": {
      "image/png": "[encoded data removed]",
      "text/plain": [
       "<Figure size 1080x360 with 2 Axes>"
      ]
     },
     "metadata": {
      "needs_background": "light"
     },
     "output_type": "display_data"
    }
   ],
   "source": [
    "# now we can compare all the images in the set with our new image and find the most similar ones\n",
    "# and show them\n",
    "\n",
    "i=0\n",
    "results=[]\n",
    "for pat in image_patterns:          #if you prefer to avoid the counter i, you can use the function enumerate(image_patterns)                         \n",
    "    similarity = pattern_accuracy(pat,new_image_pattern)   #computes similarity between patterns\n",
    "    results.append(similarity)\n",
    "    print(f'similarity between image {i} and new image is {similarity}')  \n",
    "    i+=1\n",
    "    \n",
    "    \n",
    "    \n",
    "fig1, ax=plt.subplots(1,np.size(np.where(results==np.max(results)))+1,figsize=(15,5))\n",
    "# plot with 1 row and number of columns that is equal to number of similar images\n",
    "axes=ax.ravel()\n",
    "a=0\n",
    "axes[a].imshow(new_image,cmap='binary')\n",
    "axes[a].set_xlabel(f'new image')\n",
    "find_sim = False  # I can't see why you need this boolean variable...\n",
    "for i in range (len(results)):\n",
    "    if results[i]==np.max(results):\n",
    "        print(\"The most similar image is image\", i)\n",
    "        a+=1\n",
    "        axes[a].imshow(image_list[i],cmap='binary')\n",
    "        axes[a].set_xlabel(f'image {i}')\n",
    "        find_pat = True  #...nor this one\n",
    "    \n",
    "plt.show()"
   ]
  },
  {
   "cell_type": "code",
   "execution_count": 10,
   "id": "886e7f57",
   "metadata": {},
   "outputs": [],
   "source": [
    "# compute weight matrix\n",
    "\n",
    "W=weight_matrix_image(image_patterns)"
   ]
  },
  {
   "cell_type": "code",
   "execution_count": 11,
   "id": "64e406d2",
   "metadata": {},
   "outputs": [
    {
     "name": "stdout",
     "output_type": "stream",
     "text": [
      "number of iterations 3\n"
     ]
    },
    {
     "data": {
      "image/png": "[encoded data removed]",
      "text/plain": [
       "<Figure size 936x360 with 3 Axes>"
      ]
     },
     "metadata": {
      "needs_background": "light"
     },
     "output_type": "display_data"
    }
   ],
   "source": [
    "# retrieve the initial image and show it. we have to get back to initial image, which was 'image X'\n",
    "# they must be the same, but they are not in most cases\n",
    "\n",
    "final_state_pattern = evolution(new_image_pattern, W, max_steps=100)[1]\n",
    "print('number of iterations',evolution(new_image_pattern, W, max_steps=100)[0])\n",
    "\n",
    "fig3, ax=plt.subplots(1,3,figsize=(13,5))\n",
    "axes=ax.ravel()\n",
    "axes[1].imshow(np.reshape(final_state_pattern,(x,y)), cmap='binary')\n",
    "axes[1].set_xlabel(f'retrieved image')\n",
    "axes[2].imshow(image_list[what_to_change], cmap='binary')\n",
    "axes[2].set_xlabel(f'what it should look like (image X)')\n",
    "axes[0].imshow(new_image, cmap='binary')\n",
    "axes[0].set_xlabel(f'new_image')\n",
    "plt.show()"
   ]
  },
  {
   "cell_type": "code",
   "execution_count": 12,
   "id": "38ad944c",
   "metadata": {},
   "outputs": [
    {
     "name": "stdout",
     "output_type": "stream",
     "text": [
      "No pattern retrieved :(\n"
     ]
    }
   ],
   "source": [
    "find_pat = False\n",
    "for pat in enumerate(image_patterns):\n",
    "    if pattern_accuracy(pat[1],final_state_pattern) == 1:\n",
    "        print(\"The retrieved pattern is the number: \", pat[0])\n",
    "        find_pat = True\n",
    "        break  # if you find the pattern, no need to keep searching!\n",
    "if not find_pat:\n",
    "    print(\"No pattern retrieved :(\")"
   ]
  },
  {
   "cell_type": "markdown",
   "id": "f7f8ae9f",
   "metadata": {},
   "source": [
    "The code often fails, rarely retrieves images, no matter which `x`, `y`, `L` or `rate` parameters are\n",
    "(but more successfull with small values of `L`)\n",
    "\n",
    "Probably complicated due to the way the images were created  \n"
   ]
  },
  {
   "cell_type": "markdown",
   "id": "980138d2",
   "metadata": {},
   "source": [
    "_______"
   ]
  },
  {
   "cell_type": "markdown",
   "id": "ab69dd08",
   "metadata": {},
   "source": [
    "### Pixel-like images"
   ]
  },
  {
   "cell_type": "markdown",
   "id": "5683171c",
   "metadata": {},
   "source": [
    "Let's try to create random images, not easily distinguished by eye"
   ]
  },
  {
   "cell_type": "code",
   "execution_count": 13,
   "id": "5b17bed4",
   "metadata": {},
   "outputs": [],
   "source": [
    "#new parameters (actually the same as previously)\n",
    "x=10\n",
    "y=10\n",
    "L=10 #number of images/patterns\n",
    "N=x*y # number of \"neurons\""
   ]
  },
  {
   "cell_type": "code",
   "execution_count": 14,
   "id": "28ef22dc",
   "metadata": {
    "scrolled": true,
    "tags": []
   },
   "outputs": [],
   "source": [
    "# new necessary functions\n",
    "\n",
    "# make a set of patterns\n",
    "def random_patterns(x,y):\n",
    " \n",
    "    patterns =[np.array([np.random.choice((-1, 1)) for _ in range(N)]) for _ in range(L)]\n",
    "    return patterns\n",
    "    \n",
    "#choose one of the patterns randomly\n",
    "which = np.random.randint(0,L)\n",
    "\n",
    "#make a change in pattern\n",
    "def random_change(set_of_random_patterns,rate):    \n",
    "    #take an initial state near to a pattern\n",
    "    initial_state = np.zeros(shape = (N,))\n",
    "\n",
    "    print('Which pattern was modified?',which)\n",
    "    #choose how many sites to change in the selected pattern\n",
    "    how_many = int(np.ceil(rate*N))\n",
    "    #choose randomly the index to flip\n",
    "    index_modi = np.random.randint(1,N-1, (how_many,))\n",
    "    #perturb the pattern in order to construct the initial state\n",
    "    for i in range(N):\n",
    "        if i in index_modi:\n",
    "            initial_state[i] = -1*set_of_random_patterns[which][i]\n",
    "        else:\n",
    "            initial_state[i] = set_of_random_patterns[which][i]\n",
    "#    print('Initial state', initial_state)\n",
    "    return initial_state"
   ]
  },
  {
   "cell_type": "code",
   "execution_count": 15,
   "id": "a0b71ade",
   "metadata": {},
   "outputs": [],
   "source": [
    "# create set of L patterns with x*y size\n",
    "random_patterns=random_patterns(x,y)"
   ]
  },
  {
   "cell_type": "code",
   "execution_count": 16,
   "id": "a95ddd45",
   "metadata": {},
   "outputs": [
    {
     "name": "stdout",
     "output_type": "stream",
     "text": [
      "Which pattern was modified? 6\n"
     ]
    }
   ],
   "source": [
    "#new patter (20% of changed sites in this case)\n",
    "initial_state=random_change(random_patterns,0.2)"
   ]
  },
  {
   "cell_type": "code",
   "execution_count": 17,
   "id": "30decb48",
   "metadata": {},
   "outputs": [],
   "source": [
    "#from 1D pattern to 2D image\n",
    "\n",
    "set_of_images=[]\n",
    "for i in random_patterns:  \n",
    "    each_image=np.reshape(i,(x,y))\n",
    "    set_of_images.append(each_image)\n",
    "initial_state_image=np.reshape(initial_state,(x,y))"
   ]
  },
  {
   "cell_type": "code",
   "execution_count": 18,
   "id": "ea96d341",
   "metadata": {},
   "outputs": [
    {
     "data": {
      "image/png": "[encoded data removed]",
      "text/plain": [
       "<Figure size 1080x360 with 10 Axes>"
      ]
     },
     "metadata": {
      "needs_background": "light"
     },
     "output_type": "display_data"
    }
   ],
   "source": [
    "#created images from set of patterns\n",
    "fig, ax=plt.subplots(1,L, figsize=(15,5))\n",
    "axes=ax.ravel()\n",
    "\n",
    "for i in range (L):    \n",
    "    axes[i].imshow(set_of_images[i],cmap='binary')\n",
    "    axes[i].set_xlabel(f'image {i}')\n",
    "plt.show()"
   ]
  },
  {
   "cell_type": "code",
   "execution_count": 19,
   "id": "d16dd850",
   "metadata": {},
   "outputs": [
    {
     "name": "stdout",
     "output_type": "stream",
     "text": [
      "initial_state_image\n"
     ]
    },
    {
     "data": {
      "image/png": "[encoded data removed]",
      "text/plain": [
       "<Figure size 432x288 with 1 Axes>"
      ]
     },
     "metadata": {
      "needs_background": "light"
     },
     "output_type": "display_data"
    }
   ],
   "source": [
    "#show new image\n",
    "print('initial_state_image')\n",
    "plt.imshow(initial_state_image,cmap='binary')\n",
    "plt.show()"
   ]
  },
  {
   "cell_type": "code",
   "execution_count": 20,
   "id": "41230a14",
   "metadata": {},
   "outputs": [
    {
     "name": "stdout",
     "output_type": "stream",
     "text": [
      "similarity between image 0 and new image is 0.1\n",
      "similarity between image 1 and new image is 0.0\n",
      "similarity between image 2 and new image is 0.04\n",
      "similarity between image 3 and new image is 0.14\n",
      "similarity between image 4 and new image is -0.06\n",
      "similarity between image 5 and new image is 0.16\n",
      "similarity between image 6 and new image is 0.64\n",
      "similarity between image 7 and new image is 0.08\n",
      "similarity between image 8 and new image is 0.12\n",
      "similarity between image 9 and new image is -0.06\n",
      "The most similar image is image 6\n"
     ]
    },
    {
     "data": {
      "image/png": "[encoded data removed]",
      "text/plain": [
       "<Figure size 1080x360 with 2 Axes>"
      ]
     },
     "metadata": {
      "needs_background": "light"
     },
     "output_type": "display_data"
    }
   ],
   "source": [
    "# now we can compare all the images in the set with our new image and find the most similar one\n",
    "\n",
    "i=0\n",
    "results=[]\n",
    "for pat in random_patterns:\n",
    "    similarity = pattern_accuracy(pat,initial_state)\n",
    "    results.append(similarity)\n",
    "    print(f'similarity between image {i} and new image is {similarity}')  \n",
    "    i+=1\n",
    "    \n",
    "\n",
    "fig1, ax=plt.subplots(1,np.size(np.where(results==np.max(results)))+1,figsize=(15,5))\n",
    "# plot with 1 row and number of columns that is equal to number of similar images\n",
    "axes=ax.ravel()\n",
    "a=0\n",
    "axes[a].imshow(initial_state_image,cmap='binary')\n",
    "axes[a].set_xlabel(f'new image')\n",
    "find_sim = False\n",
    "for i in range (len(results)):\n",
    "    if results[i]==np.max(results):\n",
    "        print(\"The most similar image is image\", i)\n",
    "        a+=1\n",
    "        axes[a].imshow(set_of_images[i],cmap='binary')\n",
    "        axes[a].set_xlabel(f'image {i}')\n",
    "        find_pat = True  \n",
    "plt.show()"
   ]
  },
  {
   "cell_type": "code",
   "execution_count": 21,
   "id": "83e2b3bd",
   "metadata": {},
   "outputs": [],
   "source": [
    "# now let's try to go back to initial image from the changed one\n",
    "\n",
    "W = weight_matrix_image(random_patterns)"
   ]
  },
  {
   "cell_type": "code",
   "execution_count": 22,
   "id": "51cfec6f",
   "metadata": {},
   "outputs": [
    {
     "name": "stdout",
     "output_type": "stream",
     "text": [
      "number of iterations 3\n"
     ]
    },
    {
     "data": {
      "image/png": "[encoded data removed]",
      "text/plain": [
       "<Figure size 936x360 with 3 Axes>"
      ]
     },
     "metadata": {
      "needs_background": "light"
     },
     "output_type": "display_data"
    }
   ],
   "source": [
    "# retrieve the initial image and show it. we have to get back to initial image, which was 'image X'\n",
    "\n",
    "final_state_pattern_random = evolution(initial_state, W, max_steps=100)[1]\n",
    "print('number of iterations',evolution(initial_state, W, max_steps=100)[0])\n",
    "fig3, ax=plt.subplots(1,3,figsize=(13,5))\n",
    "axes=ax.ravel()\n",
    "axes[1].imshow(np.reshape(final_state_pattern_random,(x,y)), cmap='binary')\n",
    "axes[1].set_xlabel(f'retrieved image')\n",
    "axes[0].imshow(initial_state_image, cmap='binary')\n",
    "axes[0].set_xlabel(f'initial (after % changes) image')\n",
    "axes[2].imshow(np.reshape(random_patterns[which],(x,y)), cmap='binary')\n",
    "axes[2].set_xlabel(f'what it should look like (image X)')\n",
    "plt.show()"
   ]
  },
  {
   "cell_type": "code",
   "execution_count": 23,
   "id": "ed0b890d",
   "metadata": {},
   "outputs": [
    {
     "name": "stdout",
     "output_type": "stream",
     "text": [
      "The retrieved pattern is the number:  6\n"
     ]
    }
   ],
   "source": [
    "find_pat = False\n",
    "for pat in enumerate(random_patterns):\n",
    "    if pattern_accuracy(pat[1],final_state_pattern_random) == 1:\n",
    "        print(\"The retrieved pattern is the number: \", pat[0])\n",
    "        find_pat = True\n",
    "if not find_pat:\n",
    "    print(\"No pattern retrieved :(\")"
   ]
  },
  {
   "cell_type": "markdown",
   "id": "f0c8439e",
   "metadata": {},
   "source": [
    "Works fine! Retrieves images, with parameters:  \n",
    "`Number of Neurons N=100`, `Number of Patterns L=10` and `rate of change = 20%`   \n",
    "Ratio L/N - 1 pattern per 10 neurons"
   ]
  }
 ],
 "metadata": {
  "interpreter": {
   "hash": "88279d2366fe020547cde40dd65aa0e3aa662a6ec1f3ca12d88834876c85e1a6"
  },
  "kernelspec": {
   "display_name": "Python 3.9.7 ('base')",
   "language": "python",
   "name": "python3"
  },
  "language_info": {
   "codemirror_mode": {
    "name": "ipython",
    "version": 3
   },
   "file_extension": ".py",
   "mimetype": "text/x-python",
   "name": "python",
   "nbconvert_exporter": "python",
   "pygments_lexer": "ipython3",
   "version": "3.9.7"
  }
 },
 "nbformat": 4,
 "nbformat_minor": 5
}
